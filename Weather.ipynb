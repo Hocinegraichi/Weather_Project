{
 "cells": [
  {
   "cell_type": "markdown",
   "metadata": {},
   "source": [
    "# Description of the Project:\n",
    "This is a horticulture prediction game. This project will be used in practice to predict cropping times of different horticultural products. It will also be used to make sure that weather is good enough for harvesting quality products and serving \"pick your own\" customers. That means: if raining soon, we want to encourage customers to come and visit earlier or then later given the date and time of possible rain.\n",
    "\n",
    "### Target:\n",
    "\n",
    "Calculating the starting date of the  growing season.\n",
    "Calculating accumulated temperatures starting from the starting date of the growing season.  \n"
   ]
  },
  {
   "cell_type": "markdown",
   "metadata": {},
   "source": [
    "# Story of data:\n",
    "### Data collection\n",
    "The data collected, is about the different parameters of weather of each hour from 28/05/2020 to 27/08/2020 from Tornio Torpi and Rovaniemi stations on this <a href=\"https://en.ilmatieteenlaitos.fi/download-observations\" >link</a>.\n",
    "\n",
    "Collecting daily data using a python code from  <a href=\"https://openweathermap.org/?fbclid=IwAR1OfAHqpAnJNK3_4n97yX1FQyH9G_s-6NAwTqUeiaeA4-QzOOKb2xSNDO0\" >this website</a>.\n",
    "\n",
    "<a href=\"#2.-Collecting-data-from-website\"> python code </a>\n",
    "\n",
    "# Headings of the columns:\n",
    "\n",
    "\n",
    "### Precepitation (mm):\n",
    "\n",
    "1 mm of precipitation equals one liter of water per square meter.\n",
    "\n",
    "#### Note:\n",
    "-1 in this column, is not a number but it is an indication, at each case where there is -1 it means there will be no rain in this day.\n",
    "\n",
    "### Air temperature (degC): \n",
    "the ambient temperature in Celcius.\n",
    "\n",
    "### Max and min temperature: \n",
    "It's the interval of temperature during the day, the minimum and the maximum temperature that can be reached by day.\n",
    "\n",
    "### Diffuse radiation:\n",
    "Radiation that reaches a surface or detector from all directions. Generally applied to the portion of solar radiation that reaches the surface after scattering by the aerosols and molecules in the atmosphere. <a href=\"https://www.oxfordreference.com/view/10.1093/oi/authority.20110803095717904\" >link 2</a>\n",
    "\n",
    "### Reflected radiation:\n",
    "Reflected Radiation is that portion of the total radiation which has been reflected from the Earth's surface and received on a flat, horizontally-mounted, downward-faced thermopile surface. <a href=\"https://www.sciencedirect.com/topics/engineering/reflected-radiation#:~:text=Reflected%20Radiation%20is%20that%20portion,%2C%20downward%2Dfaced%20thermopile%20surface.\" >link 3</a>\n",
    "\n",
    "### Sunshine duration: \n",
    "Sunshine duration is the length of time that the ground surface is irradiated by direct solar radiation. <a href=\"https://link.springer.com/chapter/10.1007/978-3-319-69185-5_6\" >link 4</a>\n",
    "\n",
    "#### Note:\n",
    "not all the stations in Finland do observations for radiation, so we chose the closest station Tornio (Rovaniemi) from 27/05/2020 to 30/05/2020. The data observation is per hour for diffuse radiation, reflected radiation and sunshine duration.\n",
    "### Calculated parameters:\n",
    "### Starting date: \n",
    "It is the date where the growing season starts, we calculate it by calculating the mean temperature of each day (mean= (max temp + min temp)/2). The first 10 days that have the mean >5 is the starting of the season.\n",
    "### accumulated temperatures: \n",
    "From the starting date, we take the first mean of temperature as an initial value, and we keep adding the next day's mean.\n",
    "\n",
    "\n",
    "You can see the code <a href=\"#1.-starting-date-and-accumulated-temp\"> here </a>\n",
    "\n",
    "### Visualisation:\n",
    "Visualising the accumulated temperature of the first 10 days from starting season. <a href=\"#4.-Visualisation\"> see here </a>"
   ]
  },
  {
   "cell_type": "markdown",
   "metadata": {},
   "source": [
    "# Preprossesing data:\n",
    "### Precipitation amount (mm): \n",
    "In this  column we have some cases that we have the precepitation amount is -1 which means that there is no rain in this day, in order to fix that we made a python code that replaces every -1 in this column by \"no rain\"\n",
    "### snow depth:\n",
    "In this  column we have some cases that we have the snow depth is -1 which means that there is no rain in this day, in order to fix that we made a python code that replaces every -1 in this column by \"no snow\".\n",
    "\n",
    "Code is here <a href=\"#3.-Snow-and-Precipitation\"> here </a>\n",
    "\n",
    "### radiation:\n",
    "for the radiation, sunshine duration and reflected radiation, we could not get daily observations, only instantaneaous observations (per hour). We decided to stock these data in an other excel file that could be read directly from jupyter."
   ]
  },
  {
   "cell_type": "markdown",
   "metadata": {},
   "source": [
    " ## 1. starting date and accumulated temp \n",
    " [<a href=\"#Story-of-data:\">Back</a>]"
   ]
  },
  {
   "cell_type": "code",
   "execution_count": 44,
   "metadata": {},
   "outputs": [
    {
     "name": "stdout",
     "output_type": "stream",
     "text": [
      "starting_date ==> 2020/5/17\n",
      "10 tempurature ==> [5.1499999999999995, 5.8999999999999995, 5.45, 5.75, 6.7, 5.8, 7.2, 10.65, 13.549999999999999, 11.65]\n"
     ]
    }
   ],
   "source": [
    "from openpyxl import load_workbook\n",
    "\n",
    "lista = []\n",
    "list2 =[]\n",
    "list3 =[]\n",
    "\n",
    "def mean():\n",
    "    workbook = load_workbook(filename=\"Hgr.xlsx\")\n",
    "    sheet = workbook.active\n",
    "    line = 2\n",
    "    rowmax = sheet.max_row\n",
    "    while line < rowmax and sheet.cell(row=line, column=10).value is not None:\n",
    "        mean1 = (float(sheet.cell(row=line, column=10).value) + float(sheet.cell(row=line, column=11).value))/2\n",
    "        lista.append(mean1)\n",
    "        line = line + 1\n",
    "\n",
    "def starting_date():\n",
    "    counting =0\n",
    "    workbook = load_workbook(filename=\"Hgr.xlsx\")\n",
    "    sheet = workbook.active\n",
    "    line = 2\n",
    "\n",
    "    rowmax = sheet.max_row\n",
    "    while line < rowmax and sheet.cell(row=line, column=10).value is not None:\n",
    "        mean1 = (sheet.cell(row=line, column=10).value + sheet.cell(row=line, column=11).value) / 2\n",
    "        if mean1 >= 5:\n",
    "            list2.append(lista[line-2])\n",
    "            counting = counting + 1\n",
    "            if counting >= 10:\n",
    "                day = str(sheet.cell(row=line-9, column=1).value) + \"/\" + str(sheet.cell(row=line-9, column=2).value) + \"/\" + str(sheet.cell(row=line-9, column=3).value)\n",
    "                return day\n",
    "        else:\n",
    "            counting = 0\n",
    "            list2.clear()\n",
    "        line = line +1\n",
    "\n",
    "def cumulation():\n",
    "    cml=0\n",
    "    for i in list2:\n",
    "        cml = cml+i\n",
    "        list3.append(cml)\n",
    "    return list3\n",
    "\n",
    "if __name__ == '__main__':\n",
    "    mean()\n",
    "    print(\"starting_date ==> \"+starting_date())\n",
    "    print(\"10 tempurature ==> \"+str(list2))\n",
    "y=[17,18,19,20,21,22,23,24,25,26]"
   ]
  },
  {
   "cell_type": "markdown",
   "metadata": {},
   "source": [
    " ## 4. Visualisation\n",
    " [<a href=\"#Description-of-the-Project:\">Back</a>]"
   ]
  },
  {
   "cell_type": "code",
   "execution_count": 42,
   "metadata": {
    "scrolled": true
   },
   "outputs": [
    {
     "data": {
      "text/plain": [
       "[<matplotlib.lines.Line2D at 0x7fcc3bfb21d0>]"
      ]
     },
     "execution_count": 42,
     "metadata": {},
     "output_type": "execute_result"
    },
    {
     "data": {
      "image/png": "[encoded data removed]",
      "text/plain": [
       "<Figure size 432x288 with 1 Axes>"
      ]
     },
     "metadata": {
      "needs_background": "light"
     },
     "output_type": "display_data"
    }
   ],
   "source": [
    "import matplotlib.pyplot as plt\n",
    "import numpy as np\n",
    "fig=plt.figure()\n",
    "plt.plot(y,cumulation())"
   ]
  },
  {
   "cell_type": "markdown",
   "metadata": {},
   "source": [
    "## 2. Collecting data from website\n",
    " [<a href=\"#Story-of-data:\">Back</a>]"
   ]
  },
  {
   "cell_type": "code",
   "execution_count": 28,
   "metadata": {},
   "outputs": [
    {
     "name": "stdout",
     "output_type": "stream",
     "text": [
      "max temp =  -3.0\n",
      "min temp =  -3.0\n",
      "clouds =  90\n",
      "humidity =  100\n",
      "visibility =  10000\n"
     ]
    }
   ],
   "source": [
    "import requests\n",
    "\n",
    "url = \"http://api.openweathermap.org/data/2.5/weather?q=tornio,+358&appid=83be61b739d4c140c4e639d6510bd018\"\n",
    "json_data = requests.get(url).json()\n",
    "max = json_data['main']['temp_max']\n",
    "min = json_data['main']['temp_min']\n",
    "clouds = json_data['clouds']['all']\n",
    "humidity = json_data['main']['humidity']\n",
    "visibility = json_data['visibility']\n",
    "\n",
    "maxtoc = float(max) - 273.15\n",
    "mintoc = float(min) -273.15\n",
    "\n",
    "print(\"max temp = \",maxtoc)\n",
    "print(\"min temp = \",mintoc)\n",
    "print(\"clouds = \",clouds)\n",
    "print(\"humidity = \",humidity)\n",
    "print(\"visibility = \",visibility)"
   ]
  },
  {
   "cell_type": "markdown",
   "metadata": {},
   "source": [
    "## 3. Snow and Precipitation\n",
    " [<a href=\"#Preprossesing-data:\">Back</a>]"
   ]
  },
  {
   "cell_type": "code",
   "execution_count": 31,
   "metadata": {},
   "outputs": [],
   "source": [
    "import openpyxl\n",
    "\n",
    "\n",
    "\n",
    "def rain():\n",
    "    workbook = openpyxl.load_workbook(filename=\"Hgr.xlsx\")\n",
    "    sheet = workbook.active\n",
    "    line = 2\n",
    "    rowmax = sheet.max_row\n",
    "    while line < rowmax and sheet.cell(row=line, column=10).value is not None and sheet.cell(row=line, column=16).value is None:\n",
    "\n",
    "        if sheet.cell(row=line, column=6).value == -1:\n",
    "            sheet.cell(row=line, column=15).value = \"no rain\"\n",
    "\n",
    "        else:\n",
    "            sheet.cell(row=line, column=15).value = sheet.cell(row=line, column=6).value\n",
    "\n",
    "        line = line + 1\n",
    "\n",
    "    workbook.save('Hgr.xlsx')\n",
    "\n",
    "\n",
    "def snow():\n",
    "    workbook = openpyxl.load_workbook(filename=\"Hgr.xlsx\")\n",
    "    sheet = workbook.active\n",
    "    line = 2\n",
    "    rowmax = sheet.max_row\n",
    "    while line < rowmax and sheet.cell(row=line, column=10).value is not None and sheet.cell(row=line, column=16).value is None:\n",
    "        \n",
    "        if sheet.cell(row=line, column=7).value == -1:\n",
    "            sheet.cell(row=line, column=16).value = \"no snow\"\n",
    "\n",
    "        else:\n",
    "            sheet.cell(row=line, column=16).value = sheet.cell(row=line, column=7).value\n",
    "\n",
    "        line = line + 1\n",
    "    workbook.save('Hgr.xlsx')\n",
    "\n",
    "if __name__ == '__main__':\n",
    "    rain()\n",
    "    snow()\n",
    "\n",
    "\n",
    "\n"
   ]
  },
  {
   "cell_type": "code",
   "execution_count": null,
   "metadata": {},
   "outputs": [],
   "source": []
  }
 ],
 "metadata": {
  "kernelspec": {
   "display_name": "Python 3",
   "language": "python",
   "name": "python3"
  },
  "language_info": {
   "codemirror_mode": {
    "name": "ipython",
    "version": 3
   },
   "file_extension": ".py",
   "mimetype": "text/x-python",
   "name": "python",
   "nbconvert_exporter": "python",
   "pygments_lexer": "ipython3",
   "version": "3.7.4"
  }
 },
 "nbformat": 4,
 "nbformat_minor": 2
}
